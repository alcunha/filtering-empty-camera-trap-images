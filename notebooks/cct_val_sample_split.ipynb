{
 "cells": [
  {
   "cell_type": "code",
   "execution_count": null,
   "metadata": {},
   "outputs": [],
   "source": [
    "# Copyright 2021 Fagner Cunha\n",
    "#\n",
    "# Licensed under the Apache License, Version 2.0 (the \"License\");\n",
    "# you may not use this file except in compliance with the License.\n",
    "# You may obtain a copy of the License at\n",
    "#\n",
    "#     http://www.apache.org/licenses/LICENSE-2.0\n",
    "#\n",
    "# Unless required by applicable law or agreed to in writing, software\n",
    "# distributed under the License is distributed on an \"AS IS\" BASIS,\n",
    "# WITHOUT WARRANTIES OR CONDITIONS OF ANY KIND, either express or implied.\n",
    "# See the License for the specific language governing permissions and\n",
    "# limitations under the License."
   ]
  },
  {
   "cell_type": "code",
   "execution_count": 1,
   "metadata": {},
   "outputs": [],
   "source": [
    "import json\n",
    "import random\n",
    "import numpy as np\n",
    "import pandas as pd\n",
    "\n",
    "random.seed(42)\n",
    "np.random.seed(42)"
   ]
  },
  {
   "cell_type": "markdown",
   "metadata": {},
   "source": [
    "Loading Caltech metadata:"
   ]
  },
  {
   "cell_type": "code",
   "execution_count": 2,
   "metadata": {},
   "outputs": [],
   "source": [
    "images_list_json = '/data/fagner/training/data/caltech_images_20201110ufam.json'\n",
    "with open(images_list_json) as f:\n",
    "    images = json.load(f)\n",
    "test_images = pd.DataFrame(images['images'])\n",
    "\n",
    "split_json = '../data/caltech_splits_v3.json'\n",
    "with open(split_json) as f:\n",
    "    split = json.load(f)\n",
    "\n",
    "test_images = test_images[test_images['location'].isin(split['val'])].copy()\n",
    "cct_annotations = pd.DataFrame(images['annotations'])\n",
    "test_images_labeled = pd.merge(test_images,\n",
    "                              cct_annotations,\n",
    "                              how='left',\n",
    "                              left_on='id',\n",
    "                              right_on='image_id')"
   ]
  },
  {
   "cell_type": "code",
   "execution_count": 3,
   "metadata": {},
   "outputs": [],
   "source": [
    "def binarize_categories(row):\n",
    "    if row['category_id'] == 30:\n",
    "        return 0\n",
    "    else:\n",
    "        return 1"
   ]
  },
  {
   "cell_type": "code",
   "execution_count": 4,
   "metadata": {},
   "outputs": [],
   "source": [
    "test_images_labeled['category'] = test_images_labeled.apply(binarize_categories, axis=1)"
   ]
  },
  {
   "cell_type": "markdown",
   "metadata": {},
   "source": [
    "#### Sampling 5000 instances from the test set\n",
    "* Must include at least one empty and one nonempty image for each location\n",
    "* Must keep the binary class proportion"
   ]
  },
  {
   "cell_type": "code",
   "execution_count": 5,
   "metadata": {},
   "outputs": [],
   "source": [
    "def get_instance_per_location(df):\n",
    "    selected_instances = []\n",
    "    empty_count = 0\n",
    "    nonempty_count = 0\n",
    "    for location in df.location.unique():\n",
    "        empty = df[(df.location == location) & (df.category == 0)]\n",
    "        if len(empty) > 0:\n",
    "            selected_instances.append(empty.sample(1)['image_id'].values[0])\n",
    "            empty_count += 1\n",
    "        \n",
    "        nonempty = df[(df.location == location) & (df.category == 1)]\n",
    "        if len(nonempty) > 0:\n",
    "            selected_instances.append(nonempty.sample(1)['image_id'].values[0])\n",
    "            nonempty_count += 1\n",
    "    \n",
    "    return selected_instances, empty_count, nonempty_count"
   ]
  },
  {
   "cell_type": "code",
   "execution_count": 6,
   "metadata": {},
   "outputs": [],
   "source": [
    "def sample_instances(df, category, num_samples):\n",
    "    samples = df[df.category == category].sample(num_samples)\n",
    "    \n",
    "    return list(samples['image_id'])"
   ]
  },
  {
   "cell_type": "code",
   "execution_count": 7,
   "metadata": {},
   "outputs": [],
   "source": [
    "NUM_SAMPLES = 5000"
   ]
  },
  {
   "cell_type": "code",
   "execution_count": 8,
   "metadata": {},
   "outputs": [],
   "source": [
    "num_empty_samples = int(NUM_SAMPLES * test_images_labeled.category.value_counts()[0]/len(test_images_labeled))\n",
    "num_nonempty_samples = NUM_SAMPLES - num_empty_samples"
   ]
  },
  {
   "cell_type": "code",
   "execution_count": 9,
   "metadata": {},
   "outputs": [],
   "source": [
    "sel_instances, empty_count, nonempty_count = get_instance_per_location(test_images_labeled)"
   ]
  },
  {
   "cell_type": "code",
   "execution_count": 10,
   "metadata": {},
   "outputs": [],
   "source": [
    "empty_samples = sample_instances(\n",
    "    test_images_labeled[~test_images_labeled.image_id.isin(sel_instances)],\n",
    "    category=0,\n",
    "    num_samples=(num_empty_samples - empty_count))"
   ]
  },
  {
   "cell_type": "code",
   "execution_count": 11,
   "metadata": {},
   "outputs": [],
   "source": [
    "nonempty_samples = sample_instances(\n",
    "    test_images_labeled[~test_images_labeled.image_id.isin(sel_instances)],\n",
    "    category=1,\n",
    "    num_samples=(num_nonempty_samples - nonempty_count))"
   ]
  },
  {
   "cell_type": "code",
   "execution_count": 12,
   "metadata": {},
   "outputs": [],
   "source": [
    "sel_instances = sel_instances + empty_samples + nonempty_samples"
   ]
  },
  {
   "cell_type": "markdown",
   "metadata": {},
   "source": [
    "#### Save test_sample spliting"
   ]
  },
  {
   "cell_type": "code",
   "execution_count": 13,
   "metadata": {},
   "outputs": [],
   "source": [
    "selected_instances = test_images_labeled[test_images_labeled.image_id.isin(sel_instances)]"
   ]
  },
  {
   "cell_type": "code",
   "execution_count": 14,
   "metadata": {},
   "outputs": [],
   "source": [
    "with open(images_list_json) as json_file:\n",
    "    all_images = json.load(json_file)\n",
    "all_images['info']['version'] = '20201110ufam_test_small'\n",
    "\n",
    "instances_2_json = selected_instances[['seq_num_frames',\n",
    "                                        'date_captured',\n",
    "                                        'seq_id',\n",
    "                                        'height',\n",
    "                                        'width',\n",
    "                                        'location',\n",
    "                                        'rights_holder',\n",
    "                                        'file_name',\n",
    "                                        'id_x',\n",
    "                                        'frame_num']]\n",
    "instances_2_json = instances_2_json.rename(columns={'id_x': 'id'})\n",
    "instances_2_json = instances_2_json.to_dict('records')\n",
    "all_images['images'] = instances_2_json\n",
    "metadata_json = '/data/fagner/training/data/caltech_images_20201110ufam_test_sample.json'\n",
    "with open(metadata_json, 'w') as outfile_images:\n",
    "    json.dump(all_images, outfile_images, indent=2)"
   ]
  }
 ],
 "metadata": {
  "kernelspec": {
   "display_name": "Python 3",
   "language": "python",
   "name": "python3"
  },
  "language_info": {
   "codemirror_mode": {
    "name": "ipython",
    "version": 3
   },
   "file_extension": ".py",
   "mimetype": "text/x-python",
   "name": "python",
   "nbconvert_exporter": "python",
   "pygments_lexer": "ipython3",
   "version": "3.8.5"
  }
 },
 "nbformat": 4,
 "nbformat_minor": 4
}
