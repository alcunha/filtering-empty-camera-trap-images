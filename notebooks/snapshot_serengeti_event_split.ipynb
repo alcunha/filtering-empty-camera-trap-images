{
 "cells": [
  {
   "cell_type": "code",
   "execution_count": null,
   "metadata": {},
   "outputs": [],
   "source": [
    "# Copyright 2020 Fagner Cunha\n",
    "#\n",
    "# Licensed under the Apache License, Version 2.0 (the \"License\");\n",
    "# you may not use this file except in compliance with the License.\n",
    "# You may obtain a copy of the License at\n",
    "#\n",
    "#     http://www.apache.org/licenses/LICENSE-2.0\n",
    "#\n",
    "# Unless required by applicable law or agreed to in writing, software\n",
    "# distributed under the License is distributed on an \"AS IS\" BASIS,\n",
    "# WITHOUT WARRANTIES OR CONDITIONS OF ANY KIND, either express or implied.\n",
    "# See the License for the specific language governing permissions and\n",
    "# limitations under the License."
   ]
  },
  {
   "cell_type": "code",
   "execution_count": 1,
   "metadata": {},
   "outputs": [],
   "source": [
    "import os\n",
    "\n",
    "import random\n",
    "import json\n",
    "import pandas as pd"
   ]
  },
  {
   "cell_type": "code",
   "execution_count": 2,
   "metadata": {},
   "outputs": [],
   "source": [
    "random.seed(42)"
   ]
  },
  {
   "cell_type": "markdown",
   "metadata": {},
   "source": [
    "### Loading data"
   ]
  },
  {
   "cell_type": "code",
   "execution_count": 3,
   "metadata": {},
   "outputs": [
    {
     "name": "stderr",
     "output_type": "stream",
     "text": [
      "/home/fagner/anaconda3/envs/cameratraps-detector/lib/python3.7/site-packages/IPython/core/interactiveshell.py:3146: DtypeWarning: Columns (8,12) have mixed types.Specify dtype option on import or set low_memory=False.\n",
      "  interactivity=interactivity, compiler=compiler, result=result)\n"
     ]
    }
   ],
   "source": [
    "serengeti_annotations = pd.read_csv('../data/SnapshotSerengeti_v2_1_annotations.csv')\n",
    "serengeti_annotations = serengeti_annotations[['capture_id', 'season', 'site', 'question__species']].copy()"
   ]
  },
  {
   "cell_type": "code",
   "execution_count": 4,
   "metadata": {},
   "outputs": [],
   "source": [
    "serengeti_images = pd.read_csv('../data/SnapshotSerengeti_v2_1_images.csv')\n",
    "serengeti_images = serengeti_images.drop('Unnamed: 0', axis=1)"
   ]
  },
  {
   "cell_type": "code",
   "execution_count": 5,
   "metadata": {},
   "outputs": [],
   "source": [
    "serengeti_images_labeled = pd.merge(serengeti_images, serengeti_annotations, on='capture_id', how='outer')"
   ]
  },
  {
   "cell_type": "markdown",
   "metadata": {},
   "source": [
    "We will only use seasons 1-6:"
   ]
  },
  {
   "cell_type": "code",
   "execution_count": 6,
   "metadata": {},
   "outputs": [],
   "source": [
    "serengeti_images_labeled = serengeti_images_labeled[\n",
    "    serengeti_images_labeled.season.isin(['S1', 'S2', 'S3', 'S4', 'S5', 'S6'])].copy()"
   ]
  },
  {
   "cell_type": "markdown",
   "metadata": {},
   "source": [
    "Remove images with more than one species identified:"
   ]
  },
  {
   "cell_type": "code",
   "execution_count": 7,
   "metadata": {},
   "outputs": [],
   "source": [
    "non_single_spc_instances = serengeti_images_labeled[\n",
    "    serengeti_images_labeled[['image_path_rel']].duplicated(keep=False)]\n",
    "non_single_spc_instances = non_single_spc_instances.image_path_rel.unique()"
   ]
  },
  {
   "cell_type": "code",
   "execution_count": 8,
   "metadata": {},
   "outputs": [],
   "source": [
    "serengeti_images_labeled = serengeti_images_labeled[\n",
    "    ~serengeti_images_labeled.image_path_rel.isin(non_single_spc_instances)].copy()"
   ]
  },
  {
   "cell_type": "markdown",
   "metadata": {},
   "source": [
    "Verify if images were correctly resized:"
   ]
  },
  {
   "cell_type": "code",
   "execution_count": 9,
   "metadata": {},
   "outputs": [],
   "source": [
    "ss_path = '/data/fagner/coruja/datasets/serengeti/serengeti_600x1024/'"
   ]
  },
  {
   "cell_type": "code",
   "execution_count": 10,
   "metadata": {},
   "outputs": [],
   "source": [
    "all_images_download = [value['image_path_rel']\n",
    "                       for key, value\n",
    "                       in\n",
    "                       serengeti_images_labeled.iterrows()\n",
    "                       if os.path.isfile(ss_path + value['image_path_rel'])]"
   ]
  },
  {
   "cell_type": "code",
   "execution_count": 11,
   "metadata": {},
   "outputs": [],
   "source": [
    "serengeti_images_labeled = serengeti_images_labeled[\n",
    "    serengeti_images_labeled.image_path_rel.isin(all_images_download)].copy()"
   ]
  },
  {
   "cell_type": "code",
   "execution_count": 12,
   "metadata": {},
   "outputs": [
    {
     "data": {
      "text/html": [
       "<div>\n",
       "<style scoped>\n",
       "    .dataframe tbody tr th:only-of-type {\n",
       "        vertical-align: middle;\n",
       "    }\n",
       "\n",
       "    .dataframe tbody tr th {\n",
       "        vertical-align: top;\n",
       "    }\n",
       "\n",
       "    .dataframe thead th {\n",
       "        text-align: right;\n",
       "    }\n",
       "</style>\n",
       "<table border=\"1\" class=\"dataframe\">\n",
       "  <thead>\n",
       "    <tr style=\"text-align: right;\">\n",
       "      <th></th>\n",
       "      <th>capture_id</th>\n",
       "      <th>image_rank_in_capture</th>\n",
       "      <th>image_path_rel</th>\n",
       "      <th>season</th>\n",
       "      <th>site</th>\n",
       "      <th>question__species</th>\n",
       "    </tr>\n",
       "  </thead>\n",
       "  <tbody>\n",
       "    <tr>\n",
       "      <th>0</th>\n",
       "      <td>SER_S1#B04#1#1</td>\n",
       "      <td>1</td>\n",
       "      <td>S1/B04/B04_R1/S1_B04_R1_PICT0001.JPG</td>\n",
       "      <td>S1</td>\n",
       "      <td>B04</td>\n",
       "      <td>human</td>\n",
       "    </tr>\n",
       "    <tr>\n",
       "      <th>1</th>\n",
       "      <td>SER_S1#B04#1#2</td>\n",
       "      <td>1</td>\n",
       "      <td>S1/B04/B04_R1/S1_B04_R1_PICT0002.JPG</td>\n",
       "      <td>S1</td>\n",
       "      <td>B04</td>\n",
       "      <td>human</td>\n",
       "    </tr>\n",
       "    <tr>\n",
       "      <th>2</th>\n",
       "      <td>SER_S1#B04#1#3</td>\n",
       "      <td>1</td>\n",
       "      <td>S1/B04/B04_R1/S1_B04_R1_PICT0003.JPG</td>\n",
       "      <td>S1</td>\n",
       "      <td>B04</td>\n",
       "      <td>blank</td>\n",
       "    </tr>\n",
       "    <tr>\n",
       "      <th>3</th>\n",
       "      <td>SER_S1#B04#1#4</td>\n",
       "      <td>1</td>\n",
       "      <td>S1/B04/B04_R1/S1_B04_R1_PICT0004.JPG</td>\n",
       "      <td>S1</td>\n",
       "      <td>B04</td>\n",
       "      <td>blank</td>\n",
       "    </tr>\n",
       "    <tr>\n",
       "      <th>4</th>\n",
       "      <td>SER_S1#B04#1#5</td>\n",
       "      <td>1</td>\n",
       "      <td>S1/B04/B04_R1/S1_B04_R1_PICT0005.JPG</td>\n",
       "      <td>S1</td>\n",
       "      <td>B04</td>\n",
       "      <td>blank</td>\n",
       "    </tr>\n",
       "  </tbody>\n",
       "</table>\n",
       "</div>"
      ],
      "text/plain": [
       "       capture_id  image_rank_in_capture  \\\n",
       "0  SER_S1#B04#1#1                      1   \n",
       "1  SER_S1#B04#1#2                      1   \n",
       "2  SER_S1#B04#1#3                      1   \n",
       "3  SER_S1#B04#1#4                      1   \n",
       "4  SER_S1#B04#1#5                      1   \n",
       "\n",
       "                         image_path_rel season site question__species  \n",
       "0  S1/B04/B04_R1/S1_B04_R1_PICT0001.JPG     S1  B04             human  \n",
       "1  S1/B04/B04_R1/S1_B04_R1_PICT0002.JPG     S1  B04             human  \n",
       "2  S1/B04/B04_R1/S1_B04_R1_PICT0003.JPG     S1  B04             blank  \n",
       "3  S1/B04/B04_R1/S1_B04_R1_PICT0004.JPG     S1  B04             blank  \n",
       "4  S1/B04/B04_R1/S1_B04_R1_PICT0005.JPG     S1  B04             blank  "
      ]
     },
     "execution_count": 12,
     "metadata": {},
     "output_type": "execute_result"
    }
   ],
   "source": [
    "serengeti_images_labeled.head()"
   ]
  },
  {
   "cell_type": "markdown",
   "metadata": {},
   "source": [
    "#### Select empty events"
   ]
  },
  {
   "cell_type": "code",
   "execution_count": 13,
   "metadata": {},
   "outputs": [],
   "source": [
    "species_capture_events = serengeti_images_labeled[\n",
    "    ~(serengeti_images_labeled.question__species == 'blank')].capture_id.unique()"
   ]
  },
  {
   "cell_type": "code",
   "execution_count": 14,
   "metadata": {},
   "outputs": [],
   "source": [
    "empty_capture_events = serengeti_images_labeled[\n",
    "    serengeti_images_labeled.question__species == 'blank'].capture_id.unique()"
   ]
  },
  {
   "cell_type": "code",
   "execution_count": 15,
   "metadata": {},
   "outputs": [
    {
     "data": {
      "text/plain": [
       "309602"
      ]
     },
     "execution_count": 15,
     "metadata": {},
     "output_type": "execute_result"
    }
   ],
   "source": [
    "len(species_capture_events)"
   ]
  },
  {
   "cell_type": "code",
   "execution_count": 16,
   "metadata": {},
   "outputs": [
    {
     "data": {
      "text/plain": [
       "859520"
      ]
     },
     "execution_count": 16,
     "metadata": {},
     "output_type": "execute_result"
    }
   ],
   "source": [
    "len(empty_capture_events)"
   ]
  },
  {
   "cell_type": "code",
   "execution_count": 17,
   "metadata": {},
   "outputs": [],
   "source": [
    "sampled_empty_capture_events = random.sample(list(empty_capture_events), len(species_capture_events))"
   ]
  },
  {
   "cell_type": "code",
   "execution_count": 18,
   "metadata": {},
   "outputs": [],
   "source": [
    "sampled_capture_events = sampled_empty_capture_events[:]"
   ]
  },
  {
   "cell_type": "code",
   "execution_count": 19,
   "metadata": {},
   "outputs": [],
   "source": [
    "sampled_capture_events = sampled_empty_capture_events[:]\n",
    "sampled_capture_events.extend(species_capture_events)"
   ]
  },
  {
   "cell_type": "markdown",
   "metadata": {},
   "source": [
    "### Split train/val_dev/val"
   ]
  },
  {
   "cell_type": "code",
   "execution_count": 20,
   "metadata": {},
   "outputs": [],
   "source": [
    "train_percent = 0.9\n",
    "val_dev_percent = 0.05\n",
    "val_percent = 0.05"
   ]
  },
  {
   "cell_type": "code",
   "execution_count": 21,
   "metadata": {},
   "outputs": [],
   "source": [
    "train_capture_events = random.sample(sampled_capture_events, int(train_percent*len(sampled_capture_events)))"
   ]
  },
  {
   "cell_type": "code",
   "execution_count": 22,
   "metadata": {},
   "outputs": [],
   "source": [
    "val_capture_events = list(set(sampled_capture_events) - set(train_capture_events))\n",
    "val_dev_new_percent = val_dev_percent/(val_dev_percent+val_percent)\n",
    "val_dev_capture_events = random.sample(val_capture_events, int(val_dev_new_percent*len(val_capture_events)))\n",
    "val_capture_events = list(set(val_capture_events) - set(val_dev_capture_events))"
   ]
  },
  {
   "cell_type": "code",
   "execution_count": 23,
   "metadata": {},
   "outputs": [
    {
     "data": {
      "text/plain": [
       "557283"
      ]
     },
     "execution_count": 23,
     "metadata": {},
     "output_type": "execute_result"
    }
   ],
   "source": [
    "len(train_capture_events)"
   ]
  },
  {
   "cell_type": "code",
   "execution_count": 24,
   "metadata": {},
   "outputs": [
    {
     "data": {
      "text/plain": [
       "30960"
      ]
     },
     "execution_count": 24,
     "metadata": {},
     "output_type": "execute_result"
    }
   ],
   "source": [
    "len(val_dev_capture_events)"
   ]
  },
  {
   "cell_type": "code",
   "execution_count": 25,
   "metadata": {},
   "outputs": [
    {
     "data": {
      "text/plain": [
       "30961"
      ]
     },
     "execution_count": 25,
     "metadata": {},
     "output_type": "execute_result"
    }
   ],
   "source": [
    "len(val_capture_events)"
   ]
  },
  {
   "cell_type": "markdown",
   "metadata": {},
   "source": [
    "##### Mark split"
   ]
  },
  {
   "cell_type": "code",
   "execution_count": 26,
   "metadata": {},
   "outputs": [],
   "source": [
    "val_dev = set(val_dev_capture_events)\n",
    "val = set(val_capture_events)\n",
    "\n",
    "def mark_split(row):\n",
    "    if row['capture_id'] in val_dev:\n",
    "        return 'val_dev'\n",
    "    elif row['capture_id'] in val:\n",
    "        return 'val'\n",
    "    else:\n",
    "        return 'train'"
   ]
  },
  {
   "cell_type": "code",
   "execution_count": 27,
   "metadata": {},
   "outputs": [],
   "source": [
    "instances = serengeti_images_labeled[serengeti_images_labeled.capture_id.isin(sampled_capture_events)].copy()"
   ]
  },
  {
   "cell_type": "code",
   "execution_count": 28,
   "metadata": {},
   "outputs": [],
   "source": [
    "instances['split'] = instances.apply(mark_split, axis=1)"
   ]
  },
  {
   "cell_type": "code",
   "execution_count": 29,
   "metadata": {},
   "outputs": [
    {
     "data": {
      "text/html": [
       "<div>\n",
       "<style scoped>\n",
       "    .dataframe tbody tr th:only-of-type {\n",
       "        vertical-align: middle;\n",
       "    }\n",
       "\n",
       "    .dataframe tbody tr th {\n",
       "        vertical-align: top;\n",
       "    }\n",
       "\n",
       "    .dataframe thead th {\n",
       "        text-align: right;\n",
       "    }\n",
       "</style>\n",
       "<table border=\"1\" class=\"dataframe\">\n",
       "  <thead>\n",
       "    <tr style=\"text-align: right;\">\n",
       "      <th>split</th>\n",
       "      <th>train</th>\n",
       "      <th>val</th>\n",
       "      <th>val_dev</th>\n",
       "    </tr>\n",
       "    <tr>\n",
       "      <th>question__species</th>\n",
       "      <th></th>\n",
       "      <th></th>\n",
       "      <th></th>\n",
       "    </tr>\n",
       "  </thead>\n",
       "  <tbody>\n",
       "    <tr>\n",
       "      <th>aardvark</th>\n",
       "      <td>510</td>\n",
       "      <td>33</td>\n",
       "      <td>25</td>\n",
       "    </tr>\n",
       "    <tr>\n",
       "      <th>aardwolf</th>\n",
       "      <td>285</td>\n",
       "      <td>10</td>\n",
       "      <td>17</td>\n",
       "    </tr>\n",
       "    <tr>\n",
       "      <th>baboon</th>\n",
       "      <td>4038</td>\n",
       "      <td>212</td>\n",
       "      <td>249</td>\n",
       "    </tr>\n",
       "    <tr>\n",
       "      <th>batEaredFox</th>\n",
       "      <td>682</td>\n",
       "      <td>40</td>\n",
       "      <td>31</td>\n",
       "    </tr>\n",
       "    <tr>\n",
       "      <th>blank</th>\n",
       "      <td>757548</td>\n",
       "      <td>42004</td>\n",
       "      <td>41933</td>\n",
       "    </tr>\n",
       "    <tr>\n",
       "      <th>buffalo</th>\n",
       "      <td>30428</td>\n",
       "      <td>1552</td>\n",
       "      <td>1674</td>\n",
       "    </tr>\n",
       "    <tr>\n",
       "      <th>bushbuck</th>\n",
       "      <td>319</td>\n",
       "      <td>16</td>\n",
       "      <td>18</td>\n",
       "    </tr>\n",
       "    <tr>\n",
       "      <th>caracal</th>\n",
       "      <td>168</td>\n",
       "      <td>9</td>\n",
       "      <td>6</td>\n",
       "    </tr>\n",
       "    <tr>\n",
       "      <th>cheetah</th>\n",
       "      <td>3109</td>\n",
       "      <td>150</td>\n",
       "      <td>143</td>\n",
       "    </tr>\n",
       "    <tr>\n",
       "      <th>civet</th>\n",
       "      <td>61</td>\n",
       "      <td>5</td>\n",
       "      <td>6</td>\n",
       "    </tr>\n",
       "    <tr>\n",
       "      <th>dikDik</th>\n",
       "      <td>3120</td>\n",
       "      <td>198</td>\n",
       "      <td>171</td>\n",
       "    </tr>\n",
       "    <tr>\n",
       "      <th>eland</th>\n",
       "      <td>6082</td>\n",
       "      <td>382</td>\n",
       "      <td>357</td>\n",
       "    </tr>\n",
       "    <tr>\n",
       "      <th>elephant</th>\n",
       "      <td>22799</td>\n",
       "      <td>1386</td>\n",
       "      <td>1253</td>\n",
       "    </tr>\n",
       "    <tr>\n",
       "      <th>gazelleGrants</th>\n",
       "      <td>18873</td>\n",
       "      <td>1079</td>\n",
       "      <td>1036</td>\n",
       "    </tr>\n",
       "    <tr>\n",
       "      <th>gazelleThomsons</th>\n",
       "      <td>102295</td>\n",
       "      <td>5684</td>\n",
       "      <td>5946</td>\n",
       "    </tr>\n",
       "    <tr>\n",
       "      <th>genet</th>\n",
       "      <td>74</td>\n",
       "      <td>1</td>\n",
       "      <td>3</td>\n",
       "    </tr>\n",
       "    <tr>\n",
       "      <th>giraffe</th>\n",
       "      <td>19684</td>\n",
       "      <td>1106</td>\n",
       "      <td>1075</td>\n",
       "    </tr>\n",
       "    <tr>\n",
       "      <th>guineaFowl</th>\n",
       "      <td>19586</td>\n",
       "      <td>1119</td>\n",
       "      <td>1099</td>\n",
       "    </tr>\n",
       "    <tr>\n",
       "      <th>hare</th>\n",
       "      <td>834</td>\n",
       "      <td>46</td>\n",
       "      <td>55</td>\n",
       "    </tr>\n",
       "    <tr>\n",
       "      <th>hartebeest</th>\n",
       "      <td>31629</td>\n",
       "      <td>1727</td>\n",
       "      <td>1837</td>\n",
       "    </tr>\n",
       "    <tr>\n",
       "      <th>hippopotamus</th>\n",
       "      <td>2953</td>\n",
       "      <td>155</td>\n",
       "      <td>187</td>\n",
       "    </tr>\n",
       "    <tr>\n",
       "      <th>honeyBadger</th>\n",
       "      <td>86</td>\n",
       "      <td>4</td>\n",
       "      <td>6</td>\n",
       "    </tr>\n",
       "    <tr>\n",
       "      <th>human</th>\n",
       "      <td>23584</td>\n",
       "      <td>1393</td>\n",
       "      <td>1324</td>\n",
       "    </tr>\n",
       "    <tr>\n",
       "      <th>hyenaSpotted</th>\n",
       "      <td>9498</td>\n",
       "      <td>566</td>\n",
       "      <td>574</td>\n",
       "    </tr>\n",
       "    <tr>\n",
       "      <th>hyenaStriped</th>\n",
       "      <td>272</td>\n",
       "      <td>23</td>\n",
       "      <td>8</td>\n",
       "    </tr>\n",
       "    <tr>\n",
       "      <th>impala</th>\n",
       "      <td>19672</td>\n",
       "      <td>1138</td>\n",
       "      <td>1088</td>\n",
       "    </tr>\n",
       "    <tr>\n",
       "      <th>jackal</th>\n",
       "      <td>1070</td>\n",
       "      <td>78</td>\n",
       "      <td>84</td>\n",
       "    </tr>\n",
       "    <tr>\n",
       "      <th>koriBustard</th>\n",
       "      <td>1731</td>\n",
       "      <td>73</td>\n",
       "      <td>85</td>\n",
       "    </tr>\n",
       "    <tr>\n",
       "      <th>leopard</th>\n",
       "      <td>357</td>\n",
       "      <td>19</td>\n",
       "      <td>16</td>\n",
       "    </tr>\n",
       "    <tr>\n",
       "      <th>lionFemale</th>\n",
       "      <td>7925</td>\n",
       "      <td>443</td>\n",
       "      <td>470</td>\n",
       "    </tr>\n",
       "    <tr>\n",
       "      <th>lionMale</th>\n",
       "      <td>2054</td>\n",
       "      <td>103</td>\n",
       "      <td>108</td>\n",
       "    </tr>\n",
       "    <tr>\n",
       "      <th>mongoose</th>\n",
       "      <td>591</td>\n",
       "      <td>44</td>\n",
       "      <td>31</td>\n",
       "    </tr>\n",
       "    <tr>\n",
       "      <th>ostrich</th>\n",
       "      <td>1710</td>\n",
       "      <td>119</td>\n",
       "      <td>75</td>\n",
       "    </tr>\n",
       "    <tr>\n",
       "      <th>otherBird</th>\n",
       "      <td>11064</td>\n",
       "      <td>609</td>\n",
       "      <td>657</td>\n",
       "    </tr>\n",
       "    <tr>\n",
       "      <th>porcupine</th>\n",
       "      <td>406</td>\n",
       "      <td>22</td>\n",
       "      <td>16</td>\n",
       "    </tr>\n",
       "    <tr>\n",
       "      <th>reedbuck</th>\n",
       "      <td>3909</td>\n",
       "      <td>223</td>\n",
       "      <td>230</td>\n",
       "    </tr>\n",
       "    <tr>\n",
       "      <th>reptiles</th>\n",
       "      <td>376</td>\n",
       "      <td>12</td>\n",
       "      <td>15</td>\n",
       "    </tr>\n",
       "    <tr>\n",
       "      <th>rhinoceros</th>\n",
       "      <td>75</td>\n",
       "      <td>4</td>\n",
       "      <td>9</td>\n",
       "    </tr>\n",
       "    <tr>\n",
       "      <th>rodents</th>\n",
       "      <td>133</td>\n",
       "      <td>7</td>\n",
       "      <td>12</td>\n",
       "    </tr>\n",
       "    <tr>\n",
       "      <th>secretaryBird</th>\n",
       "      <td>1122</td>\n",
       "      <td>54</td>\n",
       "      <td>69</td>\n",
       "    </tr>\n",
       "    <tr>\n",
       "      <th>serval</th>\n",
       "      <td>881</td>\n",
       "      <td>56</td>\n",
       "      <td>44</td>\n",
       "    </tr>\n",
       "    <tr>\n",
       "      <th>topi</th>\n",
       "      <td>5304</td>\n",
       "      <td>284</td>\n",
       "      <td>235</td>\n",
       "    </tr>\n",
       "    <tr>\n",
       "      <th>vervetMonkey</th>\n",
       "      <td>838</td>\n",
       "      <td>45</td>\n",
       "      <td>18</td>\n",
       "    </tr>\n",
       "    <tr>\n",
       "      <th>warthog</th>\n",
       "      <td>19153</td>\n",
       "      <td>1080</td>\n",
       "      <td>1058</td>\n",
       "    </tr>\n",
       "    <tr>\n",
       "      <th>waterbuck</th>\n",
       "      <td>771</td>\n",
       "      <td>43</td>\n",
       "      <td>33</td>\n",
       "    </tr>\n",
       "    <tr>\n",
       "      <th>wildcat</th>\n",
       "      <td>120</td>\n",
       "      <td>6</td>\n",
       "      <td>1</td>\n",
       "    </tr>\n",
       "    <tr>\n",
       "      <th>wildebeest</th>\n",
       "      <td>222052</td>\n",
       "      <td>12292</td>\n",
       "      <td>12131</td>\n",
       "    </tr>\n",
       "    <tr>\n",
       "      <th>zebra</th>\n",
       "      <td>133126</td>\n",
       "      <td>7434</td>\n",
       "      <td>7492</td>\n",
       "    </tr>\n",
       "    <tr>\n",
       "      <th>zorilla</th>\n",
       "      <td>34</td>\n",
       "      <td>0</td>\n",
       "      <td>1</td>\n",
       "    </tr>\n",
       "  </tbody>\n",
       "</table>\n",
       "</div>"
      ],
      "text/plain": [
       "split               train    val  val_dev\n",
       "question__species                        \n",
       "aardvark              510     33       25\n",
       "aardwolf              285     10       17\n",
       "baboon               4038    212      249\n",
       "batEaredFox           682     40       31\n",
       "blank              757548  42004    41933\n",
       "buffalo             30428   1552     1674\n",
       "bushbuck              319     16       18\n",
       "caracal               168      9        6\n",
       "cheetah              3109    150      143\n",
       "civet                  61      5        6\n",
       "dikDik               3120    198      171\n",
       "eland                6082    382      357\n",
       "elephant            22799   1386     1253\n",
       "gazelleGrants       18873   1079     1036\n",
       "gazelleThomsons    102295   5684     5946\n",
       "genet                  74      1        3\n",
       "giraffe             19684   1106     1075\n",
       "guineaFowl          19586   1119     1099\n",
       "hare                  834     46       55\n",
       "hartebeest          31629   1727     1837\n",
       "hippopotamus         2953    155      187\n",
       "honeyBadger            86      4        6\n",
       "human               23584   1393     1324\n",
       "hyenaSpotted         9498    566      574\n",
       "hyenaStriped          272     23        8\n",
       "impala              19672   1138     1088\n",
       "jackal               1070     78       84\n",
       "koriBustard          1731     73       85\n",
       "leopard               357     19       16\n",
       "lionFemale           7925    443      470\n",
       "lionMale             2054    103      108\n",
       "mongoose              591     44       31\n",
       "ostrich              1710    119       75\n",
       "otherBird           11064    609      657\n",
       "porcupine             406     22       16\n",
       "reedbuck             3909    223      230\n",
       "reptiles              376     12       15\n",
       "rhinoceros             75      4        9\n",
       "rodents               133      7       12\n",
       "secretaryBird        1122     54       69\n",
       "serval                881     56       44\n",
       "topi                 5304    284      235\n",
       "vervetMonkey          838     45       18\n",
       "warthog             19153   1080     1058\n",
       "waterbuck             771     43       33\n",
       "wildcat               120      6        1\n",
       "wildebeest         222052  12292    12131\n",
       "zebra              133126   7434     7492\n",
       "zorilla                34      0        1"
      ]
     },
     "execution_count": 29,
     "metadata": {},
     "output_type": "execute_result"
    }
   ],
   "source": [
    "pd.crosstab(instances.question__species, instances.split)"
   ]
  },
  {
   "cell_type": "markdown",
   "metadata": {},
   "source": [
    "#### Binarize labels"
   ]
  },
  {
   "cell_type": "code",
   "execution_count": 30,
   "metadata": {},
   "outputs": [],
   "source": [
    "def binarize_categories(row):\n",
    "    if row['question__species'] == 'blank':\n",
    "        return 0\n",
    "    else:\n",
    "        return 1"
   ]
  },
  {
   "cell_type": "code",
   "execution_count": 31,
   "metadata": {},
   "outputs": [],
   "source": [
    "instances = instances[['image_path_rel', 'question__species', 'split']].copy()\n",
    "instances['category'] = instances.apply(binarize_categories, axis=1)"
   ]
  },
  {
   "cell_type": "code",
   "execution_count": 32,
   "metadata": {},
   "outputs": [
    {
     "data": {
      "text/html": [
       "<div>\n",
       "<style scoped>\n",
       "    .dataframe tbody tr th:only-of-type {\n",
       "        vertical-align: middle;\n",
       "    }\n",
       "\n",
       "    .dataframe tbody tr th {\n",
       "        vertical-align: top;\n",
       "    }\n",
       "\n",
       "    .dataframe thead th {\n",
       "        text-align: right;\n",
       "    }\n",
       "</style>\n",
       "<table border=\"1\" class=\"dataframe\">\n",
       "  <thead>\n",
       "    <tr style=\"text-align: right;\">\n",
       "      <th>split</th>\n",
       "      <th>train</th>\n",
       "      <th>val</th>\n",
       "      <th>val_dev</th>\n",
       "    </tr>\n",
       "    <tr>\n",
       "      <th>category</th>\n",
       "      <th></th>\n",
       "      <th></th>\n",
       "      <th></th>\n",
       "    </tr>\n",
       "  </thead>\n",
       "  <tbody>\n",
       "    <tr>\n",
       "      <th>0</th>\n",
       "      <td>757548</td>\n",
       "      <td>42004</td>\n",
       "      <td>41933</td>\n",
       "    </tr>\n",
       "    <tr>\n",
       "      <th>1</th>\n",
       "      <td>735443</td>\n",
       "      <td>41084</td>\n",
       "      <td>41078</td>\n",
       "    </tr>\n",
       "  </tbody>\n",
       "</table>\n",
       "</div>"
      ],
      "text/plain": [
       "split      train    val  val_dev\n",
       "category                        \n",
       "0         757548  42004    41933\n",
       "1         735443  41084    41078"
      ]
     },
     "execution_count": 32,
     "metadata": {},
     "output_type": "execute_result"
    }
   ],
   "source": [
    "pd.crosstab(instances.category, instances.split)"
   ]
  },
  {
   "cell_type": "markdown",
   "metadata": {},
   "source": [
    "### Save csv files:"
   ]
  },
  {
   "cell_type": "code",
   "execution_count": 33,
   "metadata": {},
   "outputs": [],
   "source": [
    "def save_split(data, split, col_file_name, col_category, file_patern):\n",
    "    data_processed = data[data.split == split].copy()\n",
    "    data_processed['file_name'] = data_processed[col_file_name]\n",
    "    data_processed['category'] = data_processed[col_category]\n",
    "    \n",
    "    file_name = file_patern % split\n",
    "    \n",
    "    \n",
    "    data_processed[['file_name', 'category']].to_csv(file_name, index=False)"
   ]
  },
  {
   "cell_type": "code",
   "execution_count": 34,
   "metadata": {},
   "outputs": [],
   "source": [
    "save_split(instances, 'train', 'image_path_rel', 'category', '../data/ss_event_%s_empty.csv')\n",
    "save_split(instances, 'val_dev', 'image_path_rel', 'category', '../data/ss_event_%s_empty.csv')\n",
    "save_split(instances, 'val', 'image_path_rel', 'category', '../data/ss_event_%s_empty.csv')"
   ]
  },
  {
   "cell_type": "code",
   "execution_count": 35,
   "metadata": {},
   "outputs": [],
   "source": [
    "save_split(instances, 'train', 'image_path_rel', 'question__species', '../data/ss_event_%s_species.csv')\n",
    "save_split(instances, 'val_dev', 'image_path_rel', 'question__species', '../data/ss_event_%s_species.csv')\n",
    "save_split(instances, 'val', 'image_path_rel', 'question__species', '../data/ss_event_%s_species.csv')"
   ]
  }
 ],
 "metadata": {
  "kernelspec": {
   "display_name": "Python 3",
   "language": "python",
   "name": "python3"
  },
  "language_info": {
   "codemirror_mode": {
    "name": "ipython",
    "version": 3
   },
   "file_extension": ".py",
   "mimetype": "text/x-python",
   "name": "python",
   "nbconvert_exporter": "python",
   "pygments_lexer": "ipython3",
   "version": "3.8.5"
  }
 },
 "nbformat": 4,
 "nbformat_minor": 4
}
