{
 "cells": [
  {
   "cell_type": "code",
   "execution_count": null,
   "metadata": {},
   "outputs": [],
   "source": [
    "# Copyright 2021 Fagner Cunha\n",
    "#\n",
    "# Licensed under the Apache License, Version 2.0 (the \"License\");\n",
    "# you may not use this file except in compliance with the License.\n",
    "# You may obtain a copy of the License at\n",
    "#\n",
    "#     http://www.apache.org/licenses/LICENSE-2.0\n",
    "#\n",
    "# Unless required by applicable law or agreed to in writing, software\n",
    "# distributed under the License is distributed on an \"AS IS\" BASIS,\n",
    "# WITHOUT WARRANTIES OR CONDITIONS OF ANY KIND, either express or implied.\n",
    "# See the License for the specific language governing permissions and\n",
    "# limitations under the License."
   ]
  },
  {
   "cell_type": "code",
   "execution_count": 1,
   "metadata": {},
   "outputs": [],
   "source": [
    "import json\n",
    "import random\n",
    "import numpy as np\n",
    "import pandas as pd\n",
    "\n",
    "random.seed(42)\n",
    "np.random.seed(42)"
   ]
  },
  {
   "cell_type": "markdown",
   "metadata": {},
   "source": [
    "#### Loading Snaposhot Serengeti data"
   ]
  },
  {
   "cell_type": "code",
   "execution_count": 2,
   "metadata": {},
   "outputs": [],
   "source": [
    "def add_location(row):\n",
    "    return row['file_name'].split('/')[1]"
   ]
  },
  {
   "cell_type": "code",
   "execution_count": 3,
   "metadata": {},
   "outputs": [],
   "source": [
    "serengeti_site_test = pd.read_csv('/data/fagner/training/data/ss_val_empty.csv')\n",
    "serengeti_site_test['location'] = serengeti_site_test.apply(add_location, axis=1)\n",
    "\n",
    "serengeti_time_test = pd.read_csv('/data/fagner/training/data/ss_time_val_empty.csv')\n",
    "serengeti_time_test['location'] = serengeti_time_test.apply(add_location, axis=1)"
   ]
  },
  {
   "cell_type": "markdown",
   "metadata": {},
   "source": [
    "#### Sampling 5000 instances from the test set\n",
    "* Must include at least one empty and one nonempty image for each location\n",
    "* Must keep the binary class proportion"
   ]
  },
  {
   "cell_type": "code",
   "execution_count": 4,
   "metadata": {},
   "outputs": [],
   "source": [
    "def get_instance_per_location(df):\n",
    "    selected_instances = []\n",
    "    empty_count = 0\n",
    "    nonempty_count = 0\n",
    "    for location in df.location.unique():\n",
    "        empty = df[(df.location == location) & (df.category == 0)]\n",
    "        if len(empty) > 0:\n",
    "            selected_instances.append(empty.sample(1)['file_name'].values[0])\n",
    "            empty_count += 1\n",
    "        \n",
    "        nonempty = df[(df.location == location) & (df.category == 1)]\n",
    "        if len(nonempty) > 0:\n",
    "            selected_instances.append(nonempty.sample(1)['file_name'].values[0])\n",
    "            nonempty_count += 1\n",
    "    \n",
    "    return selected_instances, empty_count, nonempty_count"
   ]
  },
  {
   "cell_type": "code",
   "execution_count": 5,
   "metadata": {},
   "outputs": [],
   "source": [
    "def sample_instances(df, category, num_samples):\n",
    "    samples = df[df.category == category].sample(num_samples)\n",
    "    \n",
    "    return list(samples['file_name'])"
   ]
  },
  {
   "cell_type": "code",
   "execution_count": 6,
   "metadata": {},
   "outputs": [],
   "source": [
    "def sample_testset(df, num_samples):\n",
    "    num_empty_samples = int(num_samples * df.category.value_counts()[0]/len(df))\n",
    "    num_nonempty_samples = num_samples - num_empty_samples\n",
    "    \n",
    "    sel_instances, empty_count, nonempty_count = get_instance_per_location(df)\n",
    "    \n",
    "    empty_samples = sample_instances(df[~df.file_name.isin(sel_instances)],\n",
    "                                    category=0,\n",
    "                                    num_samples=(num_empty_samples - empty_count))\n",
    "    \n",
    "    nonempty_samples = sample_instances(df[~df.file_name.isin(sel_instances)],\n",
    "                                        category=1,\n",
    "                                        num_samples=(num_nonempty_samples - nonempty_count))\n",
    "    \n",
    "    sel_instances = sel_instances + empty_samples + nonempty_samples\n",
    "    \n",
    "    return df[df.file_name.isin(sel_instances)].copy()"
   ]
  },
  {
   "cell_type": "code",
   "execution_count": 7,
   "metadata": {},
   "outputs": [],
   "source": [
    "NUM_SAMPLES = 5000"
   ]
  },
  {
   "cell_type": "code",
   "execution_count": 8,
   "metadata": {},
   "outputs": [],
   "source": [
    "selected_instances_site = sample_testset(serengeti_site_test, NUM_SAMPLES)\n",
    "selected_instances_time = sample_testset(serengeti_time_test, NUM_SAMPLES)"
   ]
  },
  {
   "cell_type": "markdown",
   "metadata": {},
   "source": [
    "#### Save test_small spliting"
   ]
  },
  {
   "cell_type": "code",
   "execution_count": 9,
   "metadata": {},
   "outputs": [],
   "source": [
    "def save_to_csv(df, file_name):\n",
    "    df = df[['file_name', 'category', 'split', 'location']]\n",
    "    df.to_csv(file_name, index=False)"
   ]
  },
  {
   "cell_type": "code",
   "execution_count": 10,
   "metadata": {},
   "outputs": [],
   "source": [
    "selected_instances_site['split'] = 'val_small'\n",
    "selected_instances_time['split'] = 'val_small'"
   ]
  },
  {
   "cell_type": "code",
   "execution_count": 11,
   "metadata": {},
   "outputs": [],
   "source": [
    "save_to_csv(selected_instances_site, '/data/fagner/training/data/ss_val_small_empty.csv')\n",
    "save_to_csv(selected_instances_time, '/data/fagner/training/data/ss_time_val_small_empty.csv')"
   ]
  }
 ],
 "metadata": {
  "kernelspec": {
   "display_name": "Python 3",
   "language": "python",
   "name": "python3"
  },
  "language_info": {
   "codemirror_mode": {
    "name": "ipython",
    "version": 3
   },
   "file_extension": ".py",
   "mimetype": "text/x-python",
   "name": "python",
   "nbconvert_exporter": "python",
   "pygments_lexer": "ipython3",
   "version": "3.8.5"
  }
 },
 "nbformat": 4,
 "nbformat_minor": 4
}
